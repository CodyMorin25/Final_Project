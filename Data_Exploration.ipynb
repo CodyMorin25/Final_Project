{
 "cells": [
  {
   "cell_type": "code",
   "execution_count": 1,
   "id": "80f3e0ad",
   "metadata": {},
   "outputs": [],
   "source": [
    "# Import our dependencies\n",
    "import pandas as pd\n",
    "import tensorflow as tf\n",
    "import numpy as np\n",
    "import seaborn as sns"
   ]
  },
  {
   "cell_type": "code",
   "execution_count": 2,
   "id": "0cac3be6",
   "metadata": {},
   "outputs": [
    {
     "data": {
      "text/html": [
       "<div>\n",
       "<style scoped>\n",
       "    .dataframe tbody tr th:only-of-type {\n",
       "        vertical-align: middle;\n",
       "    }\n",
       "\n",
       "    .dataframe tbody tr th {\n",
       "        vertical-align: top;\n",
       "    }\n",
       "\n",
       "    .dataframe thead th {\n",
       "        text-align: right;\n",
       "    }\n",
       "</style>\n",
       "<table border=\"1\" class=\"dataframe\">\n",
       "  <thead>\n",
       "    <tr style=\"text-align: right;\">\n",
       "      <th></th>\n",
       "      <th>metascore</th>\n",
       "      <th>name</th>\n",
       "      <th>console</th>\n",
       "      <th>userscore</th>\n",
       "      <th>date</th>\n",
       "    </tr>\n",
       "  </thead>\n",
       "  <tbody>\n",
       "    <tr>\n",
       "      <th>0</th>\n",
       "      <td>97</td>\n",
       "      <td>Grand Theft Auto V</td>\n",
       "      <td>PS3</td>\n",
       "      <td>8.3</td>\n",
       "      <td>Sep 17, 2013</td>\n",
       "    </tr>\n",
       "    <tr>\n",
       "      <th>1</th>\n",
       "      <td>97</td>\n",
       "      <td>Grand Theft Auto V</td>\n",
       "      <td>X360</td>\n",
       "      <td>8.3</td>\n",
       "      <td>Sep 17, 2013</td>\n",
       "    </tr>\n",
       "    <tr>\n",
       "      <th>2</th>\n",
       "      <td>95</td>\n",
       "      <td>The Last of Us</td>\n",
       "      <td>PS3</td>\n",
       "      <td>9.2</td>\n",
       "      <td>Jun 14, 2013</td>\n",
       "    </tr>\n",
       "    <tr>\n",
       "      <th>3</th>\n",
       "      <td>94</td>\n",
       "      <td>BioShock Infinite</td>\n",
       "      <td>PS3</td>\n",
       "      <td>8.5</td>\n",
       "      <td>Mar 26, 2013</td>\n",
       "    </tr>\n",
       "    <tr>\n",
       "      <th>4</th>\n",
       "      <td>94</td>\n",
       "      <td>BioShock Infinite</td>\n",
       "      <td>PC</td>\n",
       "      <td>8.6</td>\n",
       "      <td>Mar 25, 2013</td>\n",
       "    </tr>\n",
       "    <tr>\n",
       "      <th>...</th>\n",
       "      <td>...</td>\n",
       "      <td>...</td>\n",
       "      <td>...</td>\n",
       "      <td>...</td>\n",
       "      <td>...</td>\n",
       "    </tr>\n",
       "    <tr>\n",
       "      <th>15642</th>\n",
       "      <td>38</td>\n",
       "      <td>Touhou Kobuto V: Burst Battle</td>\n",
       "      <td>Switch</td>\n",
       "      <td>4.6</td>\n",
       "      <td>Oct 10, 2017</td>\n",
       "    </tr>\n",
       "    <tr>\n",
       "      <th>15643</th>\n",
       "      <td>38</td>\n",
       "      <td>Randall</td>\n",
       "      <td>PS4</td>\n",
       "      <td>2.1</td>\n",
       "      <td>Jun 6, 2017</td>\n",
       "    </tr>\n",
       "    <tr>\n",
       "      <th>15644</th>\n",
       "      <td>36</td>\n",
       "      <td>Tokyo Tattoo Girls</td>\n",
       "      <td>VITA</td>\n",
       "      <td>5.4</td>\n",
       "      <td>Nov 14, 2017</td>\n",
       "    </tr>\n",
       "    <tr>\n",
       "      <th>15645</th>\n",
       "      <td>26</td>\n",
       "      <td>Road Rage</td>\n",
       "      <td>PS4</td>\n",
       "      <td>2.5</td>\n",
       "      <td>Nov 14, 2017</td>\n",
       "    </tr>\n",
       "    <tr>\n",
       "      <th>15646</th>\n",
       "      <td>17</td>\n",
       "      <td>Vroom in the Night Sky</td>\n",
       "      <td>Switch</td>\n",
       "      <td>3.1</td>\n",
       "      <td>Apr 5, 2017</td>\n",
       "    </tr>\n",
       "  </tbody>\n",
       "</table>\n",
       "<p>15647 rows × 5 columns</p>\n",
       "</div>"
      ],
      "text/plain": [
       "       metascore                           name console userscore  \\\n",
       "0             97             Grand Theft Auto V     PS3       8.3   \n",
       "1             97             Grand Theft Auto V    X360       8.3   \n",
       "2             95                 The Last of Us     PS3       9.2   \n",
       "3             94              BioShock Infinite     PS3       8.5   \n",
       "4             94              BioShock Infinite      PC       8.6   \n",
       "...          ...                            ...     ...       ...   \n",
       "15642         38  Touhou Kobuto V: Burst Battle  Switch       4.6   \n",
       "15643         38                        Randall     PS4       2.1   \n",
       "15644         36             Tokyo Tattoo Girls    VITA       5.4   \n",
       "15645         26                      Road Rage     PS4       2.5   \n",
       "15646         17         Vroom in the Night Sky  Switch       3.1   \n",
       "\n",
       "               date  \n",
       "0      Sep 17, 2013  \n",
       "1      Sep 17, 2013  \n",
       "2      Jun 14, 2013  \n",
       "3      Mar 26, 2013  \n",
       "4      Mar 25, 2013  \n",
       "...             ...  \n",
       "15642  Oct 10, 2017  \n",
       "15643   Jun 6, 2017  \n",
       "15644  Nov 14, 2017  \n",
       "15645  Nov 14, 2017  \n",
       "15646   Apr 5, 2017  \n",
       "\n",
       "[15647 rows x 5 columns]"
      ]
     },
     "execution_count": 2,
     "metadata": {},
     "output_type": "execute_result"
    }
   ],
   "source": [
    "# Import dataset\n",
    "vgreviews_df = pd.read_csv('Resources/result.csv')\n",
    "vgreviews_df"
   ]
  },
  {
   "cell_type": "code",
   "execution_count": 3,
   "id": "20faab2a",
   "metadata": {},
   "outputs": [
    {
     "data": {
      "text/html": [
       "<div>\n",
       "<style scoped>\n",
       "    .dataframe tbody tr th:only-of-type {\n",
       "        vertical-align: middle;\n",
       "    }\n",
       "\n",
       "    .dataframe tbody tr th {\n",
       "        vertical-align: top;\n",
       "    }\n",
       "\n",
       "    .dataframe thead th {\n",
       "        text-align: right;\n",
       "    }\n",
       "</style>\n",
       "<table border=\"1\" class=\"dataframe\">\n",
       "  <thead>\n",
       "    <tr style=\"text-align: right;\">\n",
       "      <th></th>\n",
       "      <th>metascore</th>\n",
       "    </tr>\n",
       "  </thead>\n",
       "  <tbody>\n",
       "    <tr>\n",
       "      <th>count</th>\n",
       "      <td>15647.000000</td>\n",
       "    </tr>\n",
       "    <tr>\n",
       "      <th>mean</th>\n",
       "      <td>70.012207</td>\n",
       "    </tr>\n",
       "    <tr>\n",
       "      <th>std</th>\n",
       "      <td>12.633671</td>\n",
       "    </tr>\n",
       "    <tr>\n",
       "      <th>min</th>\n",
       "      <td>11.000000</td>\n",
       "    </tr>\n",
       "    <tr>\n",
       "      <th>25%</th>\n",
       "      <td>63.000000</td>\n",
       "    </tr>\n",
       "    <tr>\n",
       "      <th>50%</th>\n",
       "      <td>72.000000</td>\n",
       "    </tr>\n",
       "    <tr>\n",
       "      <th>75%</th>\n",
       "      <td>79.000000</td>\n",
       "    </tr>\n",
       "    <tr>\n",
       "      <th>max</th>\n",
       "      <td>98.000000</td>\n",
       "    </tr>\n",
       "  </tbody>\n",
       "</table>\n",
       "</div>"
      ],
      "text/plain": [
       "          metascore\n",
       "count  15647.000000\n",
       "mean      70.012207\n",
       "std       12.633671\n",
       "min       11.000000\n",
       "25%       63.000000\n",
       "50%       72.000000\n",
       "75%       79.000000\n",
       "max       98.000000"
      ]
     },
     "execution_count": 3,
     "metadata": {},
     "output_type": "execute_result"
    }
   ],
   "source": [
    "vgreviews_df.describe()"
   ]
  },
  {
   "cell_type": "code",
   "execution_count": 4,
   "id": "3d14e6b2",
   "metadata": {},
   "outputs": [
    {
     "data": {
      "text/plain": [
       "metascore     int64\n",
       "name         object\n",
       "console      object\n",
       "userscore    object\n",
       "date         object\n",
       "dtype: object"
      ]
     },
     "execution_count": 4,
     "metadata": {},
     "output_type": "execute_result"
    }
   ],
   "source": [
    "vgreviews_df.dtypes"
   ]
  },
  {
   "cell_type": "code",
   "execution_count": 5,
   "id": "055ecd79",
   "metadata": {},
   "outputs": [
    {
     "data": {
      "text/plain": [
       "77    543\n",
       "73    541\n",
       "72    538\n",
       "75    531\n",
       "76    527\n",
       "     ... \n",
       "19      2\n",
       "21      1\n",
       "16      1\n",
       "11      1\n",
       "18      1\n",
       "Name: metascore, Length: 84, dtype: int64"
      ]
     },
     "execution_count": 5,
     "metadata": {},
     "output_type": "execute_result"
    }
   ],
   "source": [
    "vgreviews_df['metascore'].value_counts()"
   ]
  },
  {
   "cell_type": "code",
   "execution_count": 6,
   "id": "1e53729c",
   "metadata": {},
   "outputs": [
    {
     "data": {
      "text/plain": [
       "tbd    1373\n",
       "7.7     699\n",
       "7.6     600\n",
       "7.5     588\n",
       "7.3     537\n",
       "       ... \n",
       "0.5       2\n",
       "0.8       1\n",
       "0.7       1\n",
       "9.4       1\n",
       "0.2       1\n",
       "Name: userscore, Length: 92, dtype: int64"
      ]
     },
     "execution_count": 6,
     "metadata": {},
     "output_type": "execute_result"
    }
   ],
   "source": [
    "vgreviews_df['userscore'].value_counts()"
   ]
  },
  {
   "cell_type": "code",
   "execution_count": 7,
   "id": "e8cfe583",
   "metadata": {},
   "outputs": [
    {
     "data": {
      "text/plain": [
       "<AxesSubplot:xlabel='metascore'>"
      ]
     },
     "execution_count": 7,
     "metadata": {},
     "output_type": "execute_result"
    },
    {
     "data": {
      "image/png": "[encoded data removed]",
      "text/plain": [
       "<Figure size 432x288 with 1 Axes>"
      ]
     },
     "metadata": {
      "needs_background": "light"
     },
     "output_type": "display_data"
    }
   ],
   "source": [
    "sns.boxplot(x=vgreviews_df['metascore'])"
   ]
  },
  {
   "cell_type": "code",
   "execution_count": 8,
   "id": "776a54c3",
   "metadata": {},
   "outputs": [],
   "source": [
    "vgreviews_df = vgreviews_df[vgreviews_df.userscore != 'tbd']"
   ]
  },
  {
   "cell_type": "code",
   "execution_count": 9,
   "id": "336bff0f",
   "metadata": {},
   "outputs": [],
   "source": [
    "vgreviews_df = vgreviews_df.astype({'userscore': float})"
   ]
  },
  {
   "cell_type": "code",
   "execution_count": 10,
   "id": "4f00d32c",
   "metadata": {},
   "outputs": [
    {
     "data": {
      "text/plain": [
       "<AxesSubplot:xlabel='userscore'>"
      ]
     },
     "execution_count": 10,
     "metadata": {},
     "output_type": "execute_result"
    },
    {
     "data": {
      "image/png": "[encoded data removed]",
      "text/plain": [
       "<Figure size 432x288 with 1 Axes>"
      ]
     },
     "metadata": {
      "needs_background": "light"
     },
     "output_type": "display_data"
    }
   ],
   "source": [
    "sns.boxplot(x=vgreviews_df['userscore'])"
   ]
  },
  {
   "cell_type": "code",
   "execution_count": null,
   "id": "c0ee218a",
   "metadata": {},
   "outputs": [],
   "source": []
  }
 ],
 "metadata": {
  "kernelspec": {
   "display_name": "mlenv",
   "language": "python",
   "name": "mlenv"
  },
  "language_info": {
   "codemirror_mode": {
    "name": "ipython",
    "version": 3
   },
   "file_extension": ".py",
   "mimetype": "text/x-python",
   "name": "python",
   "nbconvert_exporter": "python",
   "pygments_lexer": "ipython3",
   "version": "3.7.11"
  }
 },
 "nbformat": 4,
 "nbformat_minor": 5
}
