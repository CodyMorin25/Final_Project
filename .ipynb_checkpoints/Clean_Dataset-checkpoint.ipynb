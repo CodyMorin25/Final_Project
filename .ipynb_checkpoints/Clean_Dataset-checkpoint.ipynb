{
 "cells": [
  {
   "cell_type": "code",
   "execution_count": 1,
   "id": "d00621b0",
   "metadata": {},
   "outputs": [],
   "source": [
    "# Import our dependencies\n",
    "from sklearn.model_selection import train_test_split\n",
    "from sklearn.preprocessing import StandardScaler,OneHotEncoder\n",
    "import pandas as pd\n",
    "import tensorflow as tf\n",
    "import numpy as np\n",
    "import seaborn as sns"
   ]
  },
  {
   "cell_type": "code",
   "execution_count": 2,
   "id": "34aa95c7",
   "metadata": {},
   "outputs": [
    {
     "data": {
      "text/html": [
       "<div>\n",
       "<style scoped>\n",
       "    .dataframe tbody tr th:only-of-type {\n",
       "        vertical-align: middle;\n",
       "    }\n",
       "\n",
       "    .dataframe tbody tr th {\n",
       "        vertical-align: top;\n",
       "    }\n",
       "\n",
       "    .dataframe thead th {\n",
       "        text-align: right;\n",
       "    }\n",
       "</style>\n",
       "<table border=\"1\" class=\"dataframe\">\n",
       "  <thead>\n",
       "    <tr style=\"text-align: right;\">\n",
       "      <th></th>\n",
       "      <th>metascore</th>\n",
       "      <th>name</th>\n",
       "      <th>console</th>\n",
       "      <th>userscore</th>\n",
       "      <th>date</th>\n",
       "    </tr>\n",
       "  </thead>\n",
       "  <tbody>\n",
       "    <tr>\n",
       "      <th>0</th>\n",
       "      <td>97</td>\n",
       "      <td>Grand Theft Auto V</td>\n",
       "      <td>PS3</td>\n",
       "      <td>8.3</td>\n",
       "      <td>Sep 17, 2013</td>\n",
       "    </tr>\n",
       "    <tr>\n",
       "      <th>1</th>\n",
       "      <td>97</td>\n",
       "      <td>Grand Theft Auto V</td>\n",
       "      <td>X360</td>\n",
       "      <td>8.3</td>\n",
       "      <td>Sep 17, 2013</td>\n",
       "    </tr>\n",
       "    <tr>\n",
       "      <th>2</th>\n",
       "      <td>95</td>\n",
       "      <td>The Last of Us</td>\n",
       "      <td>PS3</td>\n",
       "      <td>9.2</td>\n",
       "      <td>Jun 14, 2013</td>\n",
       "    </tr>\n",
       "    <tr>\n",
       "      <th>3</th>\n",
       "      <td>94</td>\n",
       "      <td>BioShock Infinite</td>\n",
       "      <td>PS3</td>\n",
       "      <td>8.5</td>\n",
       "      <td>Mar 26, 2013</td>\n",
       "    </tr>\n",
       "    <tr>\n",
       "      <th>4</th>\n",
       "      <td>94</td>\n",
       "      <td>BioShock Infinite</td>\n",
       "      <td>PC</td>\n",
       "      <td>8.6</td>\n",
       "      <td>Mar 25, 2013</td>\n",
       "    </tr>\n",
       "    <tr>\n",
       "      <th>...</th>\n",
       "      <td>...</td>\n",
       "      <td>...</td>\n",
       "      <td>...</td>\n",
       "      <td>...</td>\n",
       "      <td>...</td>\n",
       "    </tr>\n",
       "    <tr>\n",
       "      <th>15642</th>\n",
       "      <td>38</td>\n",
       "      <td>Touhou Kobuto V: Burst Battle</td>\n",
       "      <td>Switch</td>\n",
       "      <td>4.6</td>\n",
       "      <td>Oct 10, 2017</td>\n",
       "    </tr>\n",
       "    <tr>\n",
       "      <th>15643</th>\n",
       "      <td>38</td>\n",
       "      <td>Randall</td>\n",
       "      <td>PS4</td>\n",
       "      <td>2.1</td>\n",
       "      <td>Jun 6, 2017</td>\n",
       "    </tr>\n",
       "    <tr>\n",
       "      <th>15644</th>\n",
       "      <td>36</td>\n",
       "      <td>Tokyo Tattoo Girls</td>\n",
       "      <td>VITA</td>\n",
       "      <td>5.4</td>\n",
       "      <td>Nov 14, 2017</td>\n",
       "    </tr>\n",
       "    <tr>\n",
       "      <th>15645</th>\n",
       "      <td>26</td>\n",
       "      <td>Road Rage</td>\n",
       "      <td>PS4</td>\n",
       "      <td>2.5</td>\n",
       "      <td>Nov 14, 2017</td>\n",
       "    </tr>\n",
       "    <tr>\n",
       "      <th>15646</th>\n",
       "      <td>17</td>\n",
       "      <td>Vroom in the Night Sky</td>\n",
       "      <td>Switch</td>\n",
       "      <td>3.1</td>\n",
       "      <td>Apr 5, 2017</td>\n",
       "    </tr>\n",
       "  </tbody>\n",
       "</table>\n",
       "<p>15647 rows × 5 columns</p>\n",
       "</div>"
      ],
      "text/plain": [
       "       metascore                           name console userscore  \\\n",
       "0             97             Grand Theft Auto V     PS3       8.3   \n",
       "1             97             Grand Theft Auto V    X360       8.3   \n",
       "2             95                 The Last of Us     PS3       9.2   \n",
       "3             94              BioShock Infinite     PS3       8.5   \n",
       "4             94              BioShock Infinite      PC       8.6   \n",
       "...          ...                            ...     ...       ...   \n",
       "15642         38  Touhou Kobuto V: Burst Battle  Switch       4.6   \n",
       "15643         38                        Randall     PS4       2.1   \n",
       "15644         36             Tokyo Tattoo Girls    VITA       5.4   \n",
       "15645         26                      Road Rage     PS4       2.5   \n",
       "15646         17         Vroom in the Night Sky  Switch       3.1   \n",
       "\n",
       "               date  \n",
       "0      Sep 17, 2013  \n",
       "1      Sep 17, 2013  \n",
       "2      Jun 14, 2013  \n",
       "3      Mar 26, 2013  \n",
       "4      Mar 25, 2013  \n",
       "...             ...  \n",
       "15642  Oct 10, 2017  \n",
       "15643   Jun 6, 2017  \n",
       "15644  Nov 14, 2017  \n",
       "15645  Nov 14, 2017  \n",
       "15646   Apr 5, 2017  \n",
       "\n",
       "[15647 rows x 5 columns]"
      ]
     },
     "execution_count": 2,
     "metadata": {},
     "output_type": "execute_result"
    }
   ],
   "source": [
    "# Import dataset\n",
    "vgreviews_df = pd.read_csv('Resources/result.csv')\n",
    "vgreviews_df"
   ]
  },
  {
   "cell_type": "code",
   "execution_count": 3,
   "id": "476da33f",
   "metadata": {},
   "outputs": [],
   "source": [
    "vgreviews_df.drop(['console', 'date'], axis=1, inplace=True)"
   ]
  },
  {
   "cell_type": "code",
   "execution_count": 4,
   "id": "7cd4c2af",
   "metadata": {},
   "outputs": [],
   "source": [
    "vgreviews_df = vgreviews_df[vgreviews_df.userscore != 'tbd']"
   ]
  },
  {
   "cell_type": "code",
   "execution_count": 5,
   "id": "28d1d09c",
   "metadata": {},
   "outputs": [
    {
     "data": {
      "text/plain": [
       "metascore    0\n",
       "name         0\n",
       "userscore    0\n",
       "dtype: int64"
      ]
     },
     "execution_count": 5,
     "metadata": {},
     "output_type": "execute_result"
    }
   ],
   "source": [
    "vgreviews_df.isnull().sum()"
   ]
  },
  {
   "cell_type": "code",
   "execution_count": 6,
   "id": "151eaee0",
   "metadata": {},
   "outputs": [
    {
     "data": {
      "text/plain": [
       "metascore     int64\n",
       "name         object\n",
       "userscore    object\n",
       "dtype: object"
      ]
     },
     "execution_count": 6,
     "metadata": {},
     "output_type": "execute_result"
    }
   ],
   "source": [
    "vgreviews_df.dtypes"
   ]
  },
  {
   "cell_type": "code",
   "execution_count": 7,
   "id": "8a5fcab9",
   "metadata": {},
   "outputs": [],
   "source": [
    "vgreviews_df = vgreviews_df.astype({'userscore': float})"
   ]
  },
  {
   "cell_type": "code",
   "execution_count": 8,
   "id": "ae6b238b",
   "metadata": {},
   "outputs": [
    {
     "data": {
      "text/plain": [
       "metascore      int64\n",
       "name          object\n",
       "userscore    float64\n",
       "dtype: object"
      ]
     },
     "execution_count": 8,
     "metadata": {},
     "output_type": "execute_result"
    }
   ],
   "source": [
    "vgreviews_df.dtypes"
   ]
  },
  {
   "cell_type": "code",
   "execution_count": 9,
   "id": "fa439a38",
   "metadata": {},
   "outputs": [],
   "source": [
    "vgreviews_df['userscore'] = vgreviews_df['userscore'] * 10\n"
   ]
  },
  {
   "cell_type": "code",
   "execution_count": 10,
   "id": "ee49104b",
   "metadata": {},
   "outputs": [
    {
     "data": {
      "text/html": [
       "<div>\n",
       "<style scoped>\n",
       "    .dataframe tbody tr th:only-of-type {\n",
       "        vertical-align: middle;\n",
       "    }\n",
       "\n",
       "    .dataframe tbody tr th {\n",
       "        vertical-align: top;\n",
       "    }\n",
       "\n",
       "    .dataframe thead th {\n",
       "        text-align: right;\n",
       "    }\n",
       "</style>\n",
       "<table border=\"1\" class=\"dataframe\">\n",
       "  <thead>\n",
       "    <tr style=\"text-align: right;\">\n",
       "      <th></th>\n",
       "      <th>metascore</th>\n",
       "      <th>name</th>\n",
       "      <th>userscore</th>\n",
       "    </tr>\n",
       "  </thead>\n",
       "  <tbody>\n",
       "    <tr>\n",
       "      <th>0</th>\n",
       "      <td>97</td>\n",
       "      <td>Grand Theft Auto V</td>\n",
       "      <td>83.0</td>\n",
       "    </tr>\n",
       "    <tr>\n",
       "      <th>1</th>\n",
       "      <td>97</td>\n",
       "      <td>Grand Theft Auto V</td>\n",
       "      <td>83.0</td>\n",
       "    </tr>\n",
       "    <tr>\n",
       "      <th>2</th>\n",
       "      <td>95</td>\n",
       "      <td>The Last of Us</td>\n",
       "      <td>92.0</td>\n",
       "    </tr>\n",
       "    <tr>\n",
       "      <th>3</th>\n",
       "      <td>94</td>\n",
       "      <td>BioShock Infinite</td>\n",
       "      <td>85.0</td>\n",
       "    </tr>\n",
       "    <tr>\n",
       "      <th>4</th>\n",
       "      <td>94</td>\n",
       "      <td>BioShock Infinite</td>\n",
       "      <td>86.0</td>\n",
       "    </tr>\n",
       "    <tr>\n",
       "      <th>...</th>\n",
       "      <td>...</td>\n",
       "      <td>...</td>\n",
       "      <td>...</td>\n",
       "    </tr>\n",
       "    <tr>\n",
       "      <th>15642</th>\n",
       "      <td>38</td>\n",
       "      <td>Touhou Kobuto V: Burst Battle</td>\n",
       "      <td>46.0</td>\n",
       "    </tr>\n",
       "    <tr>\n",
       "      <th>15643</th>\n",
       "      <td>38</td>\n",
       "      <td>Randall</td>\n",
       "      <td>21.0</td>\n",
       "    </tr>\n",
       "    <tr>\n",
       "      <th>15644</th>\n",
       "      <td>36</td>\n",
       "      <td>Tokyo Tattoo Girls</td>\n",
       "      <td>54.0</td>\n",
       "    </tr>\n",
       "    <tr>\n",
       "      <th>15645</th>\n",
       "      <td>26</td>\n",
       "      <td>Road Rage</td>\n",
       "      <td>25.0</td>\n",
       "    </tr>\n",
       "    <tr>\n",
       "      <th>15646</th>\n",
       "      <td>17</td>\n",
       "      <td>Vroom in the Night Sky</td>\n",
       "      <td>31.0</td>\n",
       "    </tr>\n",
       "  </tbody>\n",
       "</table>\n",
       "<p>14274 rows × 3 columns</p>\n",
       "</div>"
      ],
      "text/plain": [
       "       metascore                           name  userscore\n",
       "0             97             Grand Theft Auto V       83.0\n",
       "1             97             Grand Theft Auto V       83.0\n",
       "2             95                 The Last of Us       92.0\n",
       "3             94              BioShock Infinite       85.0\n",
       "4             94              BioShock Infinite       86.0\n",
       "...          ...                            ...        ...\n",
       "15642         38  Touhou Kobuto V: Burst Battle       46.0\n",
       "15643         38                        Randall       21.0\n",
       "15644         36             Tokyo Tattoo Girls       54.0\n",
       "15645         26                      Road Rage       25.0\n",
       "15646         17         Vroom in the Night Sky       31.0\n",
       "\n",
       "[14274 rows x 3 columns]"
      ]
     },
     "execution_count": 10,
     "metadata": {},
     "output_type": "execute_result"
    }
   ],
   "source": [
    "vgreviews_df"
   ]
  },
  {
   "cell_type": "code",
   "execution_count": 11,
   "id": "277a5a27",
   "metadata": {},
   "outputs": [],
   "source": [
    "vgreviews_df['userscore'] = vgreviews_df['userscore'].astype(int).replace('\\.0', '', regex=True)"
   ]
  },
  {
   "cell_type": "code",
   "execution_count": 12,
   "id": "cec820ec",
   "metadata": {},
   "outputs": [
    {
     "data": {
      "text/html": [
       "<div>\n",
       "<style scoped>\n",
       "    .dataframe tbody tr th:only-of-type {\n",
       "        vertical-align: middle;\n",
       "    }\n",
       "\n",
       "    .dataframe tbody tr th {\n",
       "        vertical-align: top;\n",
       "    }\n",
       "\n",
       "    .dataframe thead th {\n",
       "        text-align: right;\n",
       "    }\n",
       "</style>\n",
       "<table border=\"1\" class=\"dataframe\">\n",
       "  <thead>\n",
       "    <tr style=\"text-align: right;\">\n",
       "      <th></th>\n",
       "      <th>metascore</th>\n",
       "      <th>name</th>\n",
       "      <th>userscore</th>\n",
       "    </tr>\n",
       "  </thead>\n",
       "  <tbody>\n",
       "    <tr>\n",
       "      <th>0</th>\n",
       "      <td>97</td>\n",
       "      <td>Grand Theft Auto V</td>\n",
       "      <td>83</td>\n",
       "    </tr>\n",
       "    <tr>\n",
       "      <th>1</th>\n",
       "      <td>97</td>\n",
       "      <td>Grand Theft Auto V</td>\n",
       "      <td>83</td>\n",
       "    </tr>\n",
       "    <tr>\n",
       "      <th>2</th>\n",
       "      <td>95</td>\n",
       "      <td>The Last of Us</td>\n",
       "      <td>92</td>\n",
       "    </tr>\n",
       "    <tr>\n",
       "      <th>3</th>\n",
       "      <td>94</td>\n",
       "      <td>BioShock Infinite</td>\n",
       "      <td>85</td>\n",
       "    </tr>\n",
       "    <tr>\n",
       "      <th>4</th>\n",
       "      <td>94</td>\n",
       "      <td>BioShock Infinite</td>\n",
       "      <td>86</td>\n",
       "    </tr>\n",
       "    <tr>\n",
       "      <th>...</th>\n",
       "      <td>...</td>\n",
       "      <td>...</td>\n",
       "      <td>...</td>\n",
       "    </tr>\n",
       "    <tr>\n",
       "      <th>15642</th>\n",
       "      <td>38</td>\n",
       "      <td>Touhou Kobuto V: Burst Battle</td>\n",
       "      <td>46</td>\n",
       "    </tr>\n",
       "    <tr>\n",
       "      <th>15643</th>\n",
       "      <td>38</td>\n",
       "      <td>Randall</td>\n",
       "      <td>21</td>\n",
       "    </tr>\n",
       "    <tr>\n",
       "      <th>15644</th>\n",
       "      <td>36</td>\n",
       "      <td>Tokyo Tattoo Girls</td>\n",
       "      <td>54</td>\n",
       "    </tr>\n",
       "    <tr>\n",
       "      <th>15645</th>\n",
       "      <td>26</td>\n",
       "      <td>Road Rage</td>\n",
       "      <td>25</td>\n",
       "    </tr>\n",
       "    <tr>\n",
       "      <th>15646</th>\n",
       "      <td>17</td>\n",
       "      <td>Vroom in the Night Sky</td>\n",
       "      <td>31</td>\n",
       "    </tr>\n",
       "  </tbody>\n",
       "</table>\n",
       "<p>14274 rows × 3 columns</p>\n",
       "</div>"
      ],
      "text/plain": [
       "       metascore                           name  userscore\n",
       "0             97             Grand Theft Auto V         83\n",
       "1             97             Grand Theft Auto V         83\n",
       "2             95                 The Last of Us         92\n",
       "3             94              BioShock Infinite         85\n",
       "4             94              BioShock Infinite         86\n",
       "...          ...                            ...        ...\n",
       "15642         38  Touhou Kobuto V: Burst Battle         46\n",
       "15643         38                        Randall         21\n",
       "15644         36             Tokyo Tattoo Girls         54\n",
       "15645         26                      Road Rage         25\n",
       "15646         17         Vroom in the Night Sky         31\n",
       "\n",
       "[14274 rows x 3 columns]"
      ]
     },
     "execution_count": 12,
     "metadata": {},
     "output_type": "execute_result"
    }
   ],
   "source": [
    "vgreviews_df"
   ]
  },
  {
   "cell_type": "code",
   "execution_count": 13,
   "id": "05e31a2f",
   "metadata": {},
   "outputs": [
    {
     "data": {
      "text/plain": [
       "metascore    0\n",
       "name         0\n",
       "userscore    0\n",
       "dtype: int64"
      ]
     },
     "execution_count": 13,
     "metadata": {},
     "output_type": "execute_result"
    }
   ],
   "source": [
    "vgreviews_df.isnull().sum()"
   ]
  },
  {
   "cell_type": "code",
   "execution_count": 14,
   "id": "72b2f3ef",
   "metadata": {},
   "outputs": [],
   "source": [
    "# print(f\"Duplicate entries: {vgreviews_df.duplicated().sum()}\")"
   ]
  },
  {
   "cell_type": "code",
   "execution_count": 15,
   "id": "db3f1b81",
   "metadata": {},
   "outputs": [],
   "source": [
    "# vgreviews_df = vgreviews_df.drop_duplicates(subset=['name'])"
   ]
  },
  {
   "cell_type": "code",
   "execution_count": 16,
   "id": "d2da27ea",
   "metadata": {},
   "outputs": [],
   "source": [
    "# print(f\"Duplicate entries: {vgreviews_df.duplicated().sum()}\")"
   ]
  },
  {
   "cell_type": "code",
   "execution_count": 17,
   "id": "4562ee10",
   "metadata": {},
   "outputs": [
    {
     "data": {
      "text/html": [
       "<div>\n",
       "<style scoped>\n",
       "    .dataframe tbody tr th:only-of-type {\n",
       "        vertical-align: middle;\n",
       "    }\n",
       "\n",
       "    .dataframe tbody tr th {\n",
       "        vertical-align: top;\n",
       "    }\n",
       "\n",
       "    .dataframe thead th {\n",
       "        text-align: right;\n",
       "    }\n",
       "</style>\n",
       "<table border=\"1\" class=\"dataframe\">\n",
       "  <thead>\n",
       "    <tr style=\"text-align: right;\">\n",
       "      <th></th>\n",
       "      <th>metascore</th>\n",
       "      <th>userscore</th>\n",
       "    </tr>\n",
       "  </thead>\n",
       "  <tbody>\n",
       "    <tr>\n",
       "      <th>count</th>\n",
       "      <td>14274.000000</td>\n",
       "      <td>14274.000000</td>\n",
       "    </tr>\n",
       "    <tr>\n",
       "      <th>mean</th>\n",
       "      <td>70.758232</td>\n",
       "      <td>70.287165</td>\n",
       "    </tr>\n",
       "    <tr>\n",
       "      <th>std</th>\n",
       "      <td>12.615941</td>\n",
       "      <td>13.604362</td>\n",
       "    </tr>\n",
       "    <tr>\n",
       "      <th>min</th>\n",
       "      <td>11.000000</td>\n",
       "      <td>2.000000</td>\n",
       "    </tr>\n",
       "    <tr>\n",
       "      <th>25%</th>\n",
       "      <td>64.000000</td>\n",
       "      <td>64.000000</td>\n",
       "    </tr>\n",
       "    <tr>\n",
       "      <th>50%</th>\n",
       "      <td>73.000000</td>\n",
       "      <td>73.000000</td>\n",
       "    </tr>\n",
       "    <tr>\n",
       "      <th>75%</th>\n",
       "      <td>80.000000</td>\n",
       "      <td>80.000000</td>\n",
       "    </tr>\n",
       "    <tr>\n",
       "      <th>max</th>\n",
       "      <td>98.000000</td>\n",
       "      <td>94.000000</td>\n",
       "    </tr>\n",
       "  </tbody>\n",
       "</table>\n",
       "</div>"
      ],
      "text/plain": [
       "          metascore     userscore\n",
       "count  14274.000000  14274.000000\n",
       "mean      70.758232     70.287165\n",
       "std       12.615941     13.604362\n",
       "min       11.000000      2.000000\n",
       "25%       64.000000     64.000000\n",
       "50%       73.000000     73.000000\n",
       "75%       80.000000     80.000000\n",
       "max       98.000000     94.000000"
      ]
     },
     "execution_count": 17,
     "metadata": {},
     "output_type": "execute_result"
    }
   ],
   "source": [
    "vgreviews_df.describe()"
   ]
  },
  {
   "cell_type": "code",
   "execution_count": 18,
   "id": "771cd59e",
   "metadata": {},
   "outputs": [
    {
     "data": {
      "text/plain": [
       "77    521\n",
       "80    519\n",
       "73    511\n",
       "75    508\n",
       "72    498\n",
       "     ... \n",
       "19      2\n",
       "21      1\n",
       "16      1\n",
       "11      1\n",
       "18      1\n",
       "Name: metascore, Length: 84, dtype: int64"
      ]
     },
     "execution_count": 18,
     "metadata": {},
     "output_type": "execute_result"
    }
   ],
   "source": [
    "vgreviews_df['metascore'].value_counts()"
   ]
  },
  {
   "cell_type": "code",
   "execution_count": 19,
   "id": "5cac6213",
   "metadata": {},
   "outputs": [
    {
     "data": {
      "text/plain": [
       "77    699\n",
       "76    600\n",
       "75    588\n",
       "73    537\n",
       "80    500\n",
       "     ... \n",
       "5       2\n",
       "2       1\n",
       "7       1\n",
       "8       1\n",
       "94      1\n",
       "Name: userscore, Length: 91, dtype: int64"
      ]
     },
     "execution_count": 19,
     "metadata": {},
     "output_type": "execute_result"
    }
   ],
   "source": [
    "vgreviews_df['userscore'].value_counts()"
   ]
  },
  {
   "cell_type": "code",
   "execution_count": 20,
   "id": "28deb364",
   "metadata": {},
   "outputs": [
    {
     "data": {
      "text/plain": [
       "<AxesSubplot:xlabel='userscore'>"
      ]
     },
     "execution_count": 20,
     "metadata": {},
     "output_type": "execute_result"
    },
    {
     "data": {
      "image/png": "[encoded data removed]",
      "text/plain": [
       "<Figure size 432x288 with 1 Axes>"
      ]
     },
     "metadata": {
      "needs_background": "light"
     },
     "output_type": "display_data"
    }
   ],
   "source": [
    "# Boxplots to look at outliers with clean data\n",
    "sns.boxplot(x=vgreviews_df['userscore'])"
   ]
  },
  {
   "cell_type": "code",
   "execution_count": 21,
   "id": "aa12a3df",
   "metadata": {},
   "outputs": [
    {
     "data": {
      "text/plain": [
       "<AxesSubplot:xlabel='metascore'>"
      ]
     },
     "execution_count": 21,
     "metadata": {},
     "output_type": "execute_result"
    },
    {
     "data": {
      "image/png": "[encoded data removed]",
      "text/plain": [
       "<Figure size 432x288 with 1 Axes>"
      ]
     },
     "metadata": {
      "needs_background": "light"
     },
     "output_type": "display_data"
    }
   ],
   "source": [
    "sns.boxplot(x=vgreviews_df['metascore'])"
   ]
  },
  {
   "cell_type": "code",
   "execution_count": 22,
   "id": "4f0194c8",
   "metadata": {},
   "outputs": [
    {
     "data": {
      "text/html": [
       "<div>\n",
       "<style scoped>\n",
       "    .dataframe tbody tr th:only-of-type {\n",
       "        vertical-align: middle;\n",
       "    }\n",
       "\n",
       "    .dataframe tbody tr th {\n",
       "        vertical-align: top;\n",
       "    }\n",
       "\n",
       "    .dataframe thead th {\n",
       "        text-align: right;\n",
       "    }\n",
       "</style>\n",
       "<table border=\"1\" class=\"dataframe\">\n",
       "  <thead>\n",
       "    <tr style=\"text-align: right;\">\n",
       "      <th></th>\n",
       "      <th>metascore</th>\n",
       "      <th>name</th>\n",
       "      <th>userscore</th>\n",
       "    </tr>\n",
       "  </thead>\n",
       "  <tbody>\n",
       "    <tr>\n",
       "      <th>0</th>\n",
       "      <td>97</td>\n",
       "      <td>Grand Theft Auto V</td>\n",
       "      <td>83</td>\n",
       "    </tr>\n",
       "    <tr>\n",
       "      <th>1</th>\n",
       "      <td>97</td>\n",
       "      <td>Grand Theft Auto V</td>\n",
       "      <td>83</td>\n",
       "    </tr>\n",
       "    <tr>\n",
       "      <th>2</th>\n",
       "      <td>95</td>\n",
       "      <td>The Last of Us</td>\n",
       "      <td>92</td>\n",
       "    </tr>\n",
       "    <tr>\n",
       "      <th>3</th>\n",
       "      <td>94</td>\n",
       "      <td>BioShock Infinite</td>\n",
       "      <td>85</td>\n",
       "    </tr>\n",
       "    <tr>\n",
       "      <th>4</th>\n",
       "      <td>94</td>\n",
       "      <td>BioShock Infinite</td>\n",
       "      <td>86</td>\n",
       "    </tr>\n",
       "    <tr>\n",
       "      <th>...</th>\n",
       "      <td>...</td>\n",
       "      <td>...</td>\n",
       "      <td>...</td>\n",
       "    </tr>\n",
       "    <tr>\n",
       "      <th>15642</th>\n",
       "      <td>38</td>\n",
       "      <td>Touhou Kobuto V: Burst Battle</td>\n",
       "      <td>46</td>\n",
       "    </tr>\n",
       "    <tr>\n",
       "      <th>15643</th>\n",
       "      <td>38</td>\n",
       "      <td>Randall</td>\n",
       "      <td>21</td>\n",
       "    </tr>\n",
       "    <tr>\n",
       "      <th>15644</th>\n",
       "      <td>36</td>\n",
       "      <td>Tokyo Tattoo Girls</td>\n",
       "      <td>54</td>\n",
       "    </tr>\n",
       "    <tr>\n",
       "      <th>15645</th>\n",
       "      <td>26</td>\n",
       "      <td>Road Rage</td>\n",
       "      <td>25</td>\n",
       "    </tr>\n",
       "    <tr>\n",
       "      <th>15646</th>\n",
       "      <td>17</td>\n",
       "      <td>Vroom in the Night Sky</td>\n",
       "      <td>31</td>\n",
       "    </tr>\n",
       "  </tbody>\n",
       "</table>\n",
       "<p>14274 rows × 3 columns</p>\n",
       "</div>"
      ],
      "text/plain": [
       "       metascore                           name  userscore\n",
       "0             97             Grand Theft Auto V         83\n",
       "1             97             Grand Theft Auto V         83\n",
       "2             95                 The Last of Us         92\n",
       "3             94              BioShock Infinite         85\n",
       "4             94              BioShock Infinite         86\n",
       "...          ...                            ...        ...\n",
       "15642         38  Touhou Kobuto V: Burst Battle         46\n",
       "15643         38                        Randall         21\n",
       "15644         36             Tokyo Tattoo Girls         54\n",
       "15645         26                      Road Rage         25\n",
       "15646         17         Vroom in the Night Sky         31\n",
       "\n",
       "[14274 rows x 3 columns]"
      ]
     },
     "execution_count": 22,
     "metadata": {},
     "output_type": "execute_result"
    }
   ],
   "source": [
    "vgreviews_df"
   ]
  },
  {
   "cell_type": "code",
   "execution_count": 23,
   "id": "9c8062fd",
   "metadata": {},
   "outputs": [],
   "source": [
    "vgreviews_df.to_csv('Resources/Video_Games.csv', index=False)"
   ]
  },
  {
   "cell_type": "code",
   "execution_count": null,
   "id": "e2d4e04b",
   "metadata": {},
   "outputs": [],
   "source": []
  }
 ],
 "metadata": {
  "kernelspec": {
   "display_name": "mlenv",
   "language": "python",
   "name": "mlenv"
  },
  "language_info": {
   "codemirror_mode": {
    "name": "ipython",
    "version": 3
   },
   "file_extension": ".py",
   "mimetype": "text/x-python",
   "name": "python",
   "nbconvert_exporter": "python",
   "pygments_lexer": "ipython3",
   "version": "3.7.11"
  }
 },
 "nbformat": 4,
 "nbformat_minor": 5
}
